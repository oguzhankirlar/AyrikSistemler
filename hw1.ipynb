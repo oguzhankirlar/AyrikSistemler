{
  "metadata": {
    "language_info": {
      "codemirror_mode": {
        "name": "python",
        "version": 3
      },
      "file_extension": ".py",
      "mimetype": "text/x-python",
      "name": "python",
      "nbconvert_exporter": "python",
      "pygments_lexer": "ipython3",
      "version": "3.8"
    },
    "kernelspec": {
      "name": "python",
      "display_name": "Python (Pyodide)",
      "language": "python"
    }
  },
  "nbformat_minor": 4,
  "nbformat": 4,
  "cells": [
    {
      "cell_type": "markdown",
      "source": "PERMÜTASYON SORUSU",
      "metadata": {}
    },
    {
      "cell_type": "raw",
      "source": "Bir sinema salonunda 6 farklı komedi filmi, 4 farklı bilim kurgu filmi, 3 farklı macera filmi ve 3 farklı dram filmi oynatılacak. Sinemada 8 salon bulunmakta ve her türden bir film kesinlikle gösterime girmesi gerekiyor. Kaç farklı seçim kümesi oluşturabiliriz?",
      "metadata": {}
    },
    {
      "cell_type": "markdown",
      "source": "ÇÖZÜMÜ",
      "metadata": {}
    },
    {
      "cell_type": "raw",
      "source": "Öncelikle her filmden birer tane seçmemiz gerekiyor:\n    Komedi filmlerinden biri seçilebilir: P(6,1) = 6 seçim\n    Bilim kurgu filmlerinden biri seçilebilir: P(4,1) = 4 seçim\n    Macera filmlerinden biri seçilebilir: P(3,1) = 3 seçim\n    Dram filmlerinden biri seçilebilir: P(3,1) = 3 seçim\nGeriye boşta 4 tane salon ve 12 tane film kaldı. Oradaki seçimleri de P(12,4) = 11880 olarak bulunur. Toplam seçim küme sayısını bulmak için de tüm ihtimaller çarpılır. \nseçim kümesi = 6 * 4 * 3 * 3 * 11880 = 2566080‬ olarak bulunur.",
      "metadata": {}
    },
    {
      "cell_type": "code",
      "source": "from math import factorial\n\ndef permutation(n, r):\n    return factorial(n) // factorial(n - r)\n\n# Seçim kümesi için her tür filmden en az birer film\ncomedy1 = permutation(6,1)\nbilimkurgu1 = permutation(4,1)\nmacera1 = permutation(3,1)\ndrama1 = permutation(3,1) \n\n# Kalan tüm filmler arasından seçim yapmanın farklı yolları\nkalanlar = permutation(12,4)\n\n\n# Toplam kaç farklı seçim kümesi oluşturmanın yolları\ntotal_choices = comedy1 * bilimkurgu1 * macera1 * drama1 * kalanlar\n\nprint(\"En az birer tür filmi içeren toplam farklı seçim kümesi oluşturma yolu sayısı:\", total_choices)",
      "metadata": {
        "trusted": true
      },
      "execution_count": 3,
      "outputs": [
        {
          "name": "stdout",
          "text": "En az birer tür filmi içeren toplam farklı seçim kümesi oluşturma yolu sayısı: 2566080\n",
          "output_type": "stream"
        }
      ]
    },
    {
      "cell_type": "raw",
      "source": "KOMBİNASYON SORUSU",
      "metadata": {}
    },
    {
      "cell_type": "raw",
      "source": "Bir folklör ekibinde 7 kız ve 9 erkek öğrenci bulunmaktadır. Ekipten gösteri için 4 öğrenci seçilecektir. Seçilen öğrenciler arasında en az bir kız öğrenci olması koşuluyla, kaç farklı seçim yapılabilir?",
      "metadata": {}
    },
    {
      "cell_type": "code",
      "source": "ÇÖZÜMÜ",
      "metadata": {},
      "execution_count": null,
      "outputs": []
    },
    {
      "cell_type": "code",
      "source": "Bu yaklaşımla, seçim yapabileceğimiz dört durum vardır:\n\n    Bir kız üç erkek olacak şekilde\n    İki kız iki erkek olacak şekilde\n    Üç kız bir erkek olacak şekilde\n    Dört kız olacak şekilde\n\nSeçim sayısı = C(7, 1) * C(9, 3) = 7 * 84 = 588\nSeçim sayısı = C(7, 2) * C(9, 2) = 21 * 36 = 756\nSeçim sayısı = C(7, 3) * C(9, 1) = 35 * 9 = 315\nSeçim sayısı = C(7, 4) = 35\n\nToplam yapılabilecek olan seçim sayısı = 1694",
      "metadata": {},
      "execution_count": null,
      "outputs": []
    },
    {
      "cell_type": "code",
      "source": "from math import factorial\n\ndef combination(n, r):\n    return factorial(n) // (factorial(n - r) * factorial(r))\n\nihtimal1 = combination(7,1) * combination(9,3)\nihtimal2 = combination(7,2) * combination(9,2)\nihtimal3 = combination(7,3) * combination(9,1)\nihtimal4 = combination(7,4)\n\ntoplam = ihtimal1 + ihtimal2 + ihtimal3 + ihtimal4\n\nprint(\"Toplam oluşturulabilecek farklı ekip sayısı: \", toplam)",
      "metadata": {
        "trusted": true
      },
      "execution_count": 5,
      "outputs": [
        {
          "name": "stdout",
          "text": "Toplam oluşturulabilecek farklı ekip sayısı:  1694\n",
          "output_type": "stream"
        }
      ]
    }
  ]
}