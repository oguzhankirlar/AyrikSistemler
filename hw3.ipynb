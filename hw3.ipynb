{
  "metadata": {
    "language_info": {
      "codemirror_mode": {
        "name": "python",
        "version": 3
      },
      "file_extension": ".py",
      "mimetype": "text/x-python",
      "name": "python",
      "nbconvert_exporter": "python",
      "pygments_lexer": "ipython3",
      "version": "3.8"
    },
    "kernelspec": {
      "name": "python",
      "display_name": "Python (Pyodide)",
      "language": "python"
    }
  },
  "nbformat_minor": 4,
  "nbformat": 4,
  "cells": [
    {
      "cell_type": "raw",
      "source": "BAĞIMLI OLASILIK",
      "metadata": {}
    },
    {
      "cell_type": "raw",
      "source": "İçinde 30 kalem bulunan bir kutudaki kalemlerin 12’si kurşun kalem, 18’i tükenmez kalemdir. Kutudan rastgele bir kalem seçiliyor ve kutuya geri atılmıyor. Kutudan bir kalem daha seçiliyor. ",
      "metadata": {}
    },
    {
      "cell_type": "raw",
      "source": "A) Seçilen birinci kalemin kurşun kalem, ikinci kalemin tükenmez kalem olma olasılığı nedir?",
      "metadata": {}
    },
    {
      "cell_type": "raw",
      "source": "ÇÖZÜMÜ",
      "metadata": {}
    },
    {
      "cell_type": "raw",
      "source": "Birinci kalemin kurşun kalem olma olasılığı: P(K) = 12/30\nİkinci kalemin tükenmez kalem olma olasılığı: (İlk seçtiğimiz kurşun kalemden dolayı toplam kalem sayısı 1 azalıyor.)\nP(T) = 18/29\nBu iki bağımlı olayın birlikte gerçekleşme olasılığını bulmak için bu iki olasılığı çarparız.\nP(K ve T) = (2/5) * (18/29) = 36/145",
      "metadata": {}
    },
    {
      "cell_type": "code",
      "source": "toplam_kalem = 30\nkursun_kalem = 12\ntukenmez_kalem = 18\n\nilk_cekilis = kursun_kalem / toplam_kalem\nkursun_kalem = kursun_kalem - 1\ntoplam_kalem = toplam_kalem - 1\n\nikinci_cekilis = tukenmez_kalem / toplam_kalem\n\nsonuc = ilk_cekilis * ikinci_cekilis\n\nprint(\"İlki kurşun kalem ikincisi tükenmez kalem olma olasılığı:\", sonuc)",
      "metadata": {
        "trusted": true
      },
      "execution_count": 2,
      "outputs": [
        {
          "name": "stdout",
          "text": "İlki kurşun kalem ikincisi tükenmez kalem olma olasılığı: 0.24827586206896554\n",
          "output_type": "stream"
        }
      ]
    },
    {
      "cell_type": "raw",
      "source": "B) Seçilen iki kaleminde kurşun kalem olma olasılığı nedir?",
      "metadata": {}
    },
    {
      "cell_type": "raw",
      "source": "ÇÖZÜMÜ",
      "metadata": {}
    },
    {
      "cell_type": "raw",
      "source": "Birinci kalemin kurşun kalem olma olasılığı: P(K) = 12/30\nİkinci kalemin de kurşun kalem olma olasılığı: (İlk seçtiğimiz kalem kurşun kalem olduğu için hem kurşun kalem sayısı hem toplam kalem sayısı 1 azalıyor.)\nP(L) = 11/29\nBu iki bağımlı olayın birlikte gerçekleşme olasılığını bulmak için bu iki olasılığı çarparız.\nP(K ve L) = (2/5) * (11/29) = 22/145",
      "metadata": {}
    },
    {
      "cell_type": "code",
      "source": "toplam_kalem = 30\nkursun_kalem = 12\ntukenmez_kalem = 18\n\nilk_cekilis = kursun_kalem / toplam_kalem\nkursun_kalem = kursun_kalem - 1\ntoplam_kalem = toplam_kalem - 1\n\nikinci_cekilis = kursun_kalem / toplam_kalem\n\nsonuc = ilk_cekilis * ikinci_cekilis\n\nprint(\"İlki kurşun kalem ikincisi tükenmez kalem olma olasılığı:\", sonuc)",
      "metadata": {
        "trusted": true
      },
      "execution_count": 3,
      "outputs": [
        {
          "name": "stdout",
          "text": "İlki kurşun kalem ikincisi tükenmez kalem olma olasılığı: 0.15172413793103448\n",
          "output_type": "stream"
        }
      ]
    }
  ]
}