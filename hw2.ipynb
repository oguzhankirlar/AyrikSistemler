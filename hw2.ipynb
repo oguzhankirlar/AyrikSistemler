{
  "metadata": {
    "language_info": {
      "codemirror_mode": {
        "name": "python",
        "version": 3
      },
      "file_extension": ".py",
      "mimetype": "text/x-python",
      "name": "python",
      "nbconvert_exporter": "python",
      "pygments_lexer": "ipython3",
      "version": "3.8"
    },
    "kernelspec": {
      "name": "python",
      "display_name": "Python (Pyodide)",
      "language": "python"
    }
  },
  "nbformat_minor": 4,
  "nbformat": 4,
  "cells": [
    {
      "cell_type": "markdown",
      "source": "SORU 1 ",
      "metadata": {}
    },
    {
      "cell_type": "markdown",
      "source": "Bir sınıftaki öğrencilerin %60'ı erkek ve geri kalan %40'ı kadındır. Bu sınıftan rastgele seçilen 3 öğrencinin tamamının kadın olma olasılığı nedir?",
      "metadata": {}
    },
    {
      "cell_type": "markdown",
      "source": "ÇÖZÜMÜ",
      "metadata": {}
    },
    {
      "cell_type": "markdown",
      "source": "Toplam öğrenci sayısını 100 olarak kabul edelim. Sınıftaki erkek öğrenci sayısı 60, kadın öğrenci sayısı ise 40'tır. Üç öğrencinin tamamının kadın olma olasılığı, toplam 3 kadın öğrenci kombinasyonunun toplam öğrenci kombinasyonuna bölünmesiyle hesaplanabilir.\n\n3 kadın öğrencinin kombinasyon sayısı: C(40,3) = 9880\n\nToplam öğrenci kombinasyon sayısı: C(100,3) = 161700\n\nP(X = 3) = C(40,3) / C(100,3) ≈ 0.061 veya yaklaşık %6.1'dir.\n\nBu nedenle, bu sınıftan rastgele seçilen 3 öğrencinin tamamının kadın olma olasılığı yaklaşık %6.1'dir.",
      "metadata": {}
    },
    {
      "cell_type": "code",
      "source": "from math import factorial\n\ndef combination(n, r):\n    return factorial(n) // (factorial(n - r) * factorial(r))\n\nthree_woman = combination(40, 3)\ntotal = combination(100, 3)\n\nresult = three_woman / total\n\nprint(\"Seçilen üç kişinin de kadın olma ihtimali  {:.3f}\".format(result))",
      "metadata": {
        "trusted": true
      },
      "execution_count": 3,
      "outputs": [
        {
          "name": "stdout",
          "text": "Seçilen üç kişinin de kadın olma ihtimali  0.061\n",
          "output_type": "stream"
        }
      ]
    },
    {
      "cell_type": "markdown",
      "source": "SORU 2",
      "metadata": {}
    },
    {
      "cell_type": "markdown",
      "source": "Bir dans gösterisi için 6 erkek ve 4 kadın arasından 4 kişi seçilecektir. Bu 4 kişiden oluşan grubun içinde en az bir kadın olma olasılığı nedir?",
      "metadata": {}
    },
    {
      "cell_type": "markdown",
      "source": "ÇÖZÜMÜ ",
      "metadata": {}
    },
    {
      "cell_type": "raw",
      "source": "Toplamda 10 kişi arasından 4 kişi seçileceği için toplam seçim sayısı P(10, 4)'dür. Yani, 10 farklı kişi arasından 4 kişinin sıralamasını hesaplamak için permütasyon kullanılır:\n\nP(10, 4) = 10!/(10-4)! = 10!/6! = (10x9x8x7)/(4x3x2x1) = 210\n\nŞimdi en az bir kadın içeren 4 kişilik bir grubun seçilme olasılığını hesaplayabiliriz. Bu, tamamı erkek olan bir gruptan oluşan 4 kişilik grupların toplam seçim sayısından çıkarılabilir. Tamamı erkek olan bir grupta 4 erkek arasından 4 kişinin seçilme olasılığı P(6, 4)'dür:\n\nP(6, 4) = 6!/(6-4)! = 6! / 2! = (6x5x4x3)/(4x3x2x1) = 15\n\nEn az bir kadın içeren 4 kişilik bir grubun seçilme olasılığı, toplam seçim sayısından tamamı erkek olan bir grubun seçim sayısı çıkarılarak bulunabilir:\n\nP(en az bir kadın) = 1 - P(tamamı erkek) = 1 - (P(6, 4)/P(10, 4) = 1 - 15/210 = 195/210 = 13/14\n\nYani, en az bir kadın içeren 4 kişilik bir grubun seçilme olasılığı 13/14 veya yaklaşık olarak %92.86'dır.",
      "metadata": {}
    },
    {
      "cell_type": "code",
      "source": "from math import factorial\n\ndef permutation(n, r):\n    return factorial(n) // factorial(n - r)\n\ntotal = permutation(10, 4)\nall_men = permutation(6, 4)\n\nresult = 1 - (all_men / total)\n\nprint(\"Seçilen grupta en az bir kadın olma ihtimali  {:.4f}\".format(result))",
      "metadata": {
        "trusted": true
      },
      "execution_count": 5,
      "outputs": [
        {
          "name": "stdout",
          "text": "Seçilen grupta en az bir kadın olma ihtimali  0.9286\n",
          "output_type": "stream"
        }
      ]
    }
  ]
}